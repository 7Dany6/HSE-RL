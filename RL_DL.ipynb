{
  "cells": [
    {
      "cell_type": "markdown",
      "metadata": {
        "id": "DxLSIlXDqnCB"
      },
      "source": [
        "# REINFORCE in PyTorch\n",
        "\n",
        "Just like we did before for Q-learning, this time we'll design a PyTorch network to learn `CartPole-v0` via policy gradient (REINFORCE).\n",
        "\n",
        "Most of the code in this notebook is taken from approximate Q-learning, so you'll find it more or less familiar and even simpler."
      ]
    },
    {
      "cell_type": "code",
      "execution_count": null,
      "metadata": {
        "id": "xyysXhx1qnCC",
        "outputId": "f839cf9c-728a-4aba-8d96-b3bef5a5f0f0",
        "colab": {
          "base_uri": "https://localhost:8080/"
        }
      },
      "outputs": [
        {
          "output_type": "stream",
          "name": "stdout",
          "text": [
            "Selecting previously unselected package libfontenc1:amd64.\n",
            "(Reading database ... 120903 files and directories currently installed.)\n",
            "Preparing to unpack .../0-libfontenc1_1%3a1.1.4-1build3_amd64.deb ...\n",
            "Unpacking libfontenc1:amd64 (1:1.1.4-1build3) ...\n",
            "Selecting previously unselected package libxfont2:amd64.\n",
            "Preparing to unpack .../1-libxfont2_1%3a2.0.5-1build1_amd64.deb ...\n",
            "Unpacking libxfont2:amd64 (1:2.0.5-1build1) ...\n",
            "Selecting previously unselected package libxkbfile1:amd64.\n",
            "Preparing to unpack .../2-libxkbfile1_1%3a1.1.0-1build3_amd64.deb ...\n",
            "Unpacking libxkbfile1:amd64 (1:1.1.0-1build3) ...\n",
            "Selecting previously unselected package x11-xkb-utils.\n",
            "Preparing to unpack .../3-x11-xkb-utils_7.7+5build4_amd64.deb ...\n",
            "Unpacking x11-xkb-utils (7.7+5build4) ...\n",
            "Selecting previously unselected package xfonts-encodings.\n",
            "Preparing to unpack .../4-xfonts-encodings_1%3a1.0.5-0ubuntu2_all.deb ...\n",
            "Unpacking xfonts-encodings (1:1.0.5-0ubuntu2) ...\n",
            "Selecting previously unselected package xfonts-utils.\n",
            "Preparing to unpack .../5-xfonts-utils_1%3a7.7+6build2_amd64.deb ...\n",
            "Unpacking xfonts-utils (1:7.7+6build2) ...\n",
            "Selecting previously unselected package xfonts-base.\n",
            "Preparing to unpack .../6-xfonts-base_1%3a1.0.5_all.deb ...\n",
            "Unpacking xfonts-base (1:1.0.5) ...\n",
            "Selecting previously unselected package xserver-common.\n",
            "Preparing to unpack .../7-xserver-common_2%3a21.1.4-2ubuntu1.7~22.04.2_all.deb ...\n",
            "Unpacking xserver-common (2:21.1.4-2ubuntu1.7~22.04.2) ...\n",
            "Selecting previously unselected package xvfb.\n",
            "Preparing to unpack .../8-xvfb_2%3a21.1.4-2ubuntu1.7~22.04.2_amd64.deb ...\n",
            "Unpacking xvfb (2:21.1.4-2ubuntu1.7~22.04.2) ...\n",
            "Setting up libfontenc1:amd64 (1:1.1.4-1build3) ...\n",
            "Setting up xfonts-encodings (1:1.0.5-0ubuntu2) ...\n",
            "Setting up libxkbfile1:amd64 (1:1.1.0-1build3) ...\n",
            "Setting up libxfont2:amd64 (1:2.0.5-1build1) ...\n",
            "Setting up x11-xkb-utils (7.7+5build4) ...\n",
            "Setting up xfonts-utils (1:7.7+6build2) ...\n",
            "Setting up xfonts-base (1:1.0.5) ...\n",
            "Setting up xserver-common (2:21.1.4-2ubuntu1.7~22.04.2) ...\n",
            "Setting up xvfb (2:21.1.4-2ubuntu1.7~22.04.2) ...\n",
            "Processing triggers for man-db (2.10.2-1) ...\n",
            "Processing triggers for fontconfig (2.13.1-4.2ubuntu5) ...\n",
            "Processing triggers for libc-bin (2.35-0ubuntu3.4) ...\n",
            "/sbin/ldconfig.real: /usr/local/lib/libtbbbind.so.3 is not a symbolic link\n",
            "\n",
            "/sbin/ldconfig.real: /usr/local/lib/libtbbmalloc.so.2 is not a symbolic link\n",
            "\n",
            "/sbin/ldconfig.real: /usr/local/lib/libtbbbind_2_0.so.3 is not a symbolic link\n",
            "\n",
            "/sbin/ldconfig.real: /usr/local/lib/libtbbbind_2_5.so.3 is not a symbolic link\n",
            "\n",
            "/sbin/ldconfig.real: /usr/local/lib/libtbbmalloc_proxy.so.2 is not a symbolic link\n",
            "\n",
            "/sbin/ldconfig.real: /usr/local/lib/libtbb.so.12 is not a symbolic link\n",
            "\n",
            "\u001b[2K     \u001b[90m━━━━━━━━━━━━━━━━━━━━━━━━━━━━━━━━━━━━━━━━\u001b[0m \u001b[32m953.9/953.9 kB\u001b[0m \u001b[31m5.4 MB/s\u001b[0m eta \u001b[36m0:00:00\u001b[0m\n",
            "\u001b[?25hRequirement already satisfied: moviepy in /usr/local/lib/python3.10/dist-packages (1.0.3)\n",
            "Requirement already satisfied: decorator<5.0,>=4.0.2 in /usr/local/lib/python3.10/dist-packages (from moviepy) (4.4.2)\n",
            "Requirement already satisfied: tqdm<5.0,>=4.11.2 in /usr/local/lib/python3.10/dist-packages (from moviepy) (4.66.1)\n",
            "Requirement already satisfied: requests<3.0,>=2.8.1 in /usr/local/lib/python3.10/dist-packages (from moviepy) (2.31.0)\n",
            "Requirement already satisfied: proglog<=1.0.0 in /usr/local/lib/python3.10/dist-packages (from moviepy) (0.1.10)\n",
            "Requirement already satisfied: numpy>=1.17.3 in /usr/local/lib/python3.10/dist-packages (from moviepy) (1.23.5)\n",
            "Requirement already satisfied: imageio<3.0,>=2.5 in /usr/local/lib/python3.10/dist-packages (from moviepy) (2.31.6)\n",
            "Requirement already satisfied: imageio-ffmpeg>=0.2.0 in /usr/local/lib/python3.10/dist-packages (from moviepy) (0.4.9)\n",
            "Requirement already satisfied: pillow<10.1.0,>=8.3.2 in /usr/local/lib/python3.10/dist-packages (from imageio<3.0,>=2.5->moviepy) (9.4.0)\n",
            "Requirement already satisfied: setuptools in /usr/local/lib/python3.10/dist-packages (from imageio-ffmpeg>=0.2.0->moviepy) (67.7.2)\n",
            "Requirement already satisfied: charset-normalizer<4,>=2 in /usr/local/lib/python3.10/dist-packages (from requests<3.0,>=2.8.1->moviepy) (3.3.2)\n",
            "Requirement already satisfied: idna<4,>=2.5 in /usr/local/lib/python3.10/dist-packages (from requests<3.0,>=2.8.1->moviepy) (3.6)\n",
            "Requirement already satisfied: urllib3<3,>=1.21.1 in /usr/local/lib/python3.10/dist-packages (from requests<3.0,>=2.8.1->moviepy) (2.0.7)\n",
            "Requirement already satisfied: certifi>=2017.4.17 in /usr/local/lib/python3.10/dist-packages (from requests<3.0,>=2.8.1->moviepy) (2023.11.17)\n",
            "Reading package lists... Done\n",
            "Building dependency tree... Done\n",
            "Reading state information... Done\n",
            "ffmpeg is already the newest version (7:4.4.2-0ubuntu0.22.04.1).\n",
            "0 upgraded, 0 newly installed, 0 to remove and 24 not upgraded.\n",
            "Requirement already satisfied: imageio-ffmpeg in /usr/local/lib/python3.10/dist-packages (0.4.9)\n",
            "Requirement already satisfied: setuptools in /usr/local/lib/python3.10/dist-packages (from imageio-ffmpeg) (67.7.2)\n",
            "Starting virtual X frame buffer: Xvfb.\n"
          ]
        }
      ],
      "source": [
        "import sys, os\n",
        "if 'google.colab' in sys.modules and not os.path.exists('.setup_complete'):\n",
        "    !wget -q https://raw.githubusercontent.com/yandexdataschool/Practical_RL/master/setup_colab.sh -O- | bash\n",
        "    !pip install -q gymnasium\n",
        "    !pip install moviepy\n",
        "    !apt install ffmpeg\n",
        "    !pip install imageio-ffmpeg\n",
        "    !touch .setup_complete\n",
        "\n",
        "# This code creates a virtual display to draw game images on.\n",
        "# It will have no effect if your machine has a monitor.\n",
        "if type(os.environ.get(\"DISPLAY\")) is not str or len(os.environ.get(\"DISPLAY\")) == 0:\n",
        "    !bash ../xvfb start\n",
        "    os.environ['DISPLAY'] = ':1'"
      ]
    },
    {
      "cell_type": "code",
      "execution_count": null,
      "metadata": {
        "id": "8K7m31zrqnCD"
      },
      "outputs": [],
      "source": [
        "import gymnasium as gym\n",
        "import numpy as np\n",
        "import matplotlib.pyplot as plt\n",
        "%matplotlib inline"
      ]
    },
    {
      "cell_type": "code",
      "source": [
        "!pip install ffmpeg"
      ],
      "metadata": {
        "id": "wwusTSvxrE4E",
        "outputId": "4186b902-3088-45d3-81c1-09b4a1b67e1d",
        "colab": {
          "base_uri": "https://localhost:8080/"
        }
      },
      "execution_count": null,
      "outputs": [
        {
          "output_type": "stream",
          "name": "stdout",
          "text": [
            "Collecting ffmpeg\n",
            "  Downloading ffmpeg-1.4.tar.gz (5.1 kB)\n",
            "  Preparing metadata (setup.py) ... \u001b[?25l\u001b[?25hdone\n",
            "Building wheels for collected packages: ffmpeg\n",
            "  Building wheel for ffmpeg (setup.py) ... \u001b[?25l\u001b[?25hdone\n",
            "  Created wheel for ffmpeg: filename=ffmpeg-1.4-py3-none-any.whl size=6080 sha256=d4bdb53d4a00b5c21f9eed6cb6ef745c36e23039216e7f782c6ce5af6bfd30db\n",
            "  Stored in directory: /root/.cache/pip/wheels/8e/7a/69/cd6aeb83b126a7f04cbe7c9d929028dc52a6e7d525ff56003a\n",
            "Successfully built ffmpeg\n",
            "Installing collected packages: ffmpeg\n",
            "Successfully installed ffmpeg-1.4\n"
          ]
        }
      ]
    },
    {
      "cell_type": "code",
      "execution_count": null,
      "metadata": {
        "id": "4kVNdA4dqnCD"
      },
      "outputs": [],
      "source": [
        "# also you need to install ffmpeg if not installed\n",
        "# for MacOS: ! brew install ffmpeg"
      ]
    },
    {
      "cell_type": "markdown",
      "metadata": {
        "id": "dZ0qLluiqnCD"
      },
      "source": [
        "A caveat: with some versions of `pyglet`, the following cell may crash with `NameError: name 'base' is not defined`. The corresponding bug report is [here](https://github.com/pyglet/pyglet/issues/134). If you see this error, try restarting the kernel."
      ]
    },
    {
      "cell_type": "code",
      "execution_count": null,
      "metadata": {
        "id": "cMSNm8xZqnCD",
        "outputId": "4470c39e-0ff4-4322-9f9c-08ee1f8ccdd4",
        "colab": {
          "base_uri": "https://localhost:8080/",
          "height": 414
        }
      },
      "outputs": [
        {
          "output_type": "execute_result",
          "data": {
            "text/plain": [
              "<matplotlib.image.AxesImage at 0x7e868d0af0a0>"
            ]
          },
          "metadata": {},
          "execution_count": 4
        },
        {
          "output_type": "display_data",
          "data": {
            "text/plain": [
              "<Figure size 640x480 with 1 Axes>"
            ],
            "image/png": "[encoded data removed]"
          },
          "metadata": {}
        }
      ],
      "source": [
        "env = gym.make(\"CartPole-v1\", render_mode=\"rgb_array\")\n",
        "\n",
        "# gym compatibility: unwrap TimeLimit\n",
        "if hasattr(env, '_max_episode_steps'):\n",
        "    env = env.env\n",
        "\n",
        "env.reset()\n",
        "n_actions = env.action_space.n\n",
        "state_dim = env.observation_space.shape\n",
        "\n",
        "plt.imshow(env.render())"
      ]
    },
    {
      "cell_type": "markdown",
      "metadata": {
        "id": "QjhJsHeQqnCE"
      },
      "source": [
        "# Building the network for REINFORCE"
      ]
    },
    {
      "cell_type": "markdown",
      "metadata": {
        "id": "IsRj9lcnqnCE"
      },
      "source": [
        "For REINFORCE algorithm, we'll need a model that predicts action probabilities given states.\n",
        "\n",
        "For numerical stability, please __do not include the softmax layer into your network architecture__.\n",
        "We'll use softmax or log-softmax where appropriate."
      ]
    },
    {
      "cell_type": "code",
      "execution_count": null,
      "metadata": {
        "id": "TOdNjTABqnCE"
      },
      "outputs": [],
      "source": [
        "import torch\n",
        "import torch.nn as nn\n",
        "import torch.nn.functional as F"
      ]
    },
    {
      "cell_type": "code",
      "execution_count": null,
      "metadata": {
        "id": "nEovc6iqqnCE"
      },
      "outputs": [],
      "source": [
        "# Build a simple neural network that predicts policy logits.\n",
        "# Keep it simple: CartPole isn't worth deep architectures.\n",
        "input_size = 4\n",
        "output_size = 2\n",
        "\n",
        "model = nn.Sequential(\n",
        "    nn.Linear(input_size, 128),\n",
        "    nn.ReLU(),\n",
        "    nn.Linear(128, 64),\n",
        "    nn.ReLU(),\n",
        "    nn.Linear(64, output_size)\n",
        ")"
      ]
    },
    {
      "cell_type": "markdown",
      "metadata": {
        "id": "nPL53_ThqnCE"
      },
      "source": [
        "#### Predict function"
      ]
    },
    {
      "cell_type": "markdown",
      "metadata": {
        "id": "TkkxBbStqnCE"
      },
      "source": [
        "Note: output value of this function is not a torch tensor, it's a numpy array.\n",
        "So, here gradient calculation is not needed.\n",
        "<br>\n",
        "Use [no_grad](https://pytorch.org/docs/stable/autograd.html#torch.autograd.no_grad)\n",
        "to suppress gradient calculation.\n",
        "<br>\n",
        "Also, `.detach()` (or legacy `.data` property) can be used instead, but there is a difference:\n",
        "<br>\n",
        "With `.detach()` computational graph is built but then disconnected from a particular tensor,\n",
        "so `.detach()` should be used if that graph is needed for backprop via some other (not detached) tensor;\n",
        "<br>\n",
        "In contrast, no graph is built by any operation in `no_grad()` context, thus it's preferable here."
      ]
    },
    {
      "cell_type": "code",
      "execution_count": null,
      "metadata": {
        "id": "Gq9X47vkqnCE"
      },
      "outputs": [],
      "source": [
        "def predict_probs(states):\n",
        "    # Convert numpy array states to PyTorch tensor\n",
        "    states_tensor = torch.tensor(states, dtype=torch.float32)\n",
        "\n",
        "    # Use torch.no_grad to avoid tracking gradients\n",
        "    with torch.no_grad():\n",
        "        # Pass the states through the network to get the logits\n",
        "        logits = model(states_tensor)\n",
        "\n",
        "        # Apply softmax to logits to get probabilities\n",
        "        probabilities = F.softmax(logits, dim=1)\n",
        "\n",
        "        # Convert the probabilities back to a numpy array\n",
        "        probabilities_np = probabilities.numpy()\n",
        "\n",
        "    return probabilities_np"
      ]
    },
    {
      "cell_type": "code",
      "execution_count": null,
      "metadata": {
        "id": "zYecYi7FqnCF"
      },
      "outputs": [],
      "source": [
        "test_states = np.array([env.reset()[0] for _ in range(5)])\n",
        "test_probas = predict_probs(test_states)\n",
        "assert isinstance(test_probas, np.ndarray), \\\n",
        "    \"you must return np array and not %s\" % type(test_probas)\n",
        "assert tuple(test_probas.shape) == (test_states.shape[0], env.action_space.n), \\\n",
        "    \"wrong output shape: %s\" % np.shape(test_probas)\n",
        "assert np.allclose(np.sum(test_probas, axis=1), 1), \"probabilities do not sum to 1\""
      ]
    },
    {
      "cell_type": "markdown",
      "metadata": {
        "id": "aFdURYszqnCF"
      },
      "source": [
        "### Play the game\n",
        "\n",
        "We can now use our newly built agent to play the game."
      ]
    },
    {
      "cell_type": "code",
      "execution_count": null,
      "metadata": {
        "id": "UARQ6ZhBqnCF"
      },
      "outputs": [],
      "source": [
        "def generate_session(env, t_max=1000):\n",
        "    \"\"\"\n",
        "    Play a full session with REINFORCE agent.\n",
        "    Returns sequences of states, actions, and rewards.\n",
        "    \"\"\"\n",
        "    # arrays to record session\n",
        "    states, actions, rewards = [], [], []\n",
        "\n",
        "    s = env.reset()[0]\n",
        "\n",
        "    for t in range(t_max):\n",
        "        # action probabilities array aka pi(a|s)\n",
        "        action_probs = predict_probs(np.array([s]))[0]\n",
        "\n",
        "        # Sample action with given probabilities.\n",
        "        a = np.random.choice(len(action_probs), p=action_probs)\n",
        "\n",
        "        new_s, r, terminated, truncated, info = env.step(a)\n",
        "\n",
        "        # record session history to train later\n",
        "        states.append(s)\n",
        "        actions.append(a)\n",
        "        rewards.append(r)\n",
        "\n",
        "        s = new_s\n",
        "        if terminated or truncated:\n",
        "            break\n",
        "\n",
        "    return states, actions, rewards"
      ]
    },
    {
      "cell_type": "code",
      "execution_count": null,
      "metadata": {
        "id": "RKJYQECzqnCF"
      },
      "outputs": [],
      "source": [
        "# test it\n",
        "states, actions, rewards = generate_session(env)"
      ]
    },
    {
      "cell_type": "markdown",
      "metadata": {
        "id": "11CpKM2UqnCF"
      },
      "source": [
        "### Computing cumulative rewards\n",
        "\n",
        "$$\n",
        "\\begin{align*}\n",
        "G_t &= r_t + \\gamma r_{t + 1} + \\gamma^2 r_{t + 2} + \\ldots \\\\\n",
        "&= \\sum_{i = t}^T \\gamma^{i - t} r_i \\\\\n",
        "&= r_t + \\gamma * G_{t + 1}\n",
        "\\end{align*}\n",
        "$$"
      ]
    },
    {
      "cell_type": "code",
      "execution_count": null,
      "metadata": {
        "id": "q9RAaV0yqnCF"
      },
      "outputs": [],
      "source": [
        "def get_cumulative_rewards(rewards, gamma=0.99):\n",
        "    \"\"\"\n",
        "    Take a list of immediate rewards r(s,a) for the whole session\n",
        "    and compute cumulative returns (a.k.a. G(s,a) in Sutton '16).\n",
        "\n",
        "    G_t = r_t + gamma*r_{t+1} + gamma^2*r_{t+2} + ...\n",
        "\n",
        "    A simple way to compute cumulative rewards is to iterate from the last\n",
        "    to the first timestep and compute G_t = r_t + gamma*G_{t+1} recurrently\n",
        "\n",
        "    You must return an array/list of cumulative rewards with as many elements as in the initial rewards.\n",
        "    \"\"\"\n",
        "\n",
        "    # Initialize an empty list for cumulative rewards with the same length as `rewards`\n",
        "    cumulative_rewards = [0 for _ in rewards]\n",
        "\n",
        "    # Initialize the last time step with the last immediate reward since G_{T} = r_{T}\n",
        "    cumulative_rewards[-1] = rewards[-1]\n",
        "\n",
        "    # Loop through the rewards list in reverse order starting from the second-to-last item\n",
        "    for i in reversed(range(len(rewards) - 1)):\n",
        "        cumulative_rewards[i] = rewards[i] + gamma * cumulative_rewards[i + 1]\n",
        "\n",
        "    return cumulative_rewards"
      ]
    },
    {
      "cell_type": "code",
      "execution_count": null,
      "metadata": {
        "id": "I9rWVzdAqnCF",
        "outputId": "05033cce-bd72-48f4-96a4-f3798e66f5fd",
        "colab": {
          "base_uri": "https://localhost:8080/"
        }
      },
      "outputs": [
        {
          "output_type": "stream",
          "name": "stdout",
          "text": [
            "looks good!\n"
          ]
        }
      ],
      "source": [
        "get_cumulative_rewards(rewards)\n",
        "assert len(get_cumulative_rewards(list(range(100)))) == 100\n",
        "assert np.allclose(\n",
        "    get_cumulative_rewards([0, 0, 1, 0, 0, 1, 0], gamma=0.9),\n",
        "    [1.40049, 1.5561, 1.729, 0.81, 0.9, 1.0, 0.0])\n",
        "assert np.allclose(\n",
        "    get_cumulative_rewards([0, 0, 1, -2, 3, -4, 0], gamma=0.5),\n",
        "    [0.0625, 0.125, 0.25, -1.5, 1.0, -4.0, 0.0])\n",
        "assert np.allclose(\n",
        "    get_cumulative_rewards([0, 0, 1, 2, 3, 4, 0], gamma=0),\n",
        "    [0, 0, 1, 2, 3, 4, 0])\n",
        "print(\"looks good!\")"
      ]
    },
    {
      "cell_type": "markdown",
      "metadata": {
        "id": "hj3_MAGLqnCF"
      },
      "source": [
        "#### Loss function and updates\n",
        "\n",
        "We now need to define objective and update over policy gradient.\n",
        "\n",
        "Our objective function is\n",
        "\n",
        "$$ J \\approx  { 1 \\over N } \\sum_{s_i,a_i} G(s_i,a_i) $$\n",
        "\n",
        "REINFORCE defines a way to compute the gradient of the expected reward with respect to policy parameters. The formula is as follows:\n",
        "\n",
        "$$ \\nabla_\\theta \\hat J(\\theta) \\approx { 1 \\over N } \\sum_{s_i, a_i} \\nabla_\\theta \\log \\pi_\\theta (a_i \\mid s_i) \\cdot G_t(s_i, a_i) $$\n",
        "\n",
        "We can abuse PyTorch's capabilities for automatic differentiation by defining our objective function as follows:\n",
        "\n",
        "$$ \\hat J(\\theta) \\approx { 1 \\over N } \\sum_{s_i, a_i} \\log \\pi_\\theta (a_i \\mid s_i) \\cdot G_t(s_i, a_i) $$\n",
        "\n",
        "When you compute the gradient of that function with respect to network weights $\\theta$, it will become exactly the policy gradient."
      ]
    },
    {
      "cell_type": "code",
      "execution_count": null,
      "metadata": {
        "id": "EImK40ugqnCG"
      },
      "outputs": [],
      "source": [
        "# Your code: define optimizers\n",
        "optimizer = torch.optim.Adam(model.parameters(), 1e-3)\n",
        "\n",
        "\n",
        "def train_on_session(states, actions, rewards, gamma=0.99, entropy_coef=1e-2):\n",
        "    \"\"\"\n",
        "    Takes a sequence of states, actions and rewards produced by generate_session.\n",
        "    Updates agent's weights by following the policy gradient above.\n",
        "    Please use Adam optimizer with default parameters.\n",
        "    \"\"\"\n",
        "\n",
        "    # cast everything into torch tensors\n",
        "    states = torch.tensor(states, dtype=torch.float32)\n",
        "    actions = torch.tensor(actions, dtype=torch.int64)\n",
        "    cumulative_returns = np.array(get_cumulative_rewards(rewards, gamma))\n",
        "    cumulative_returns = torch.tensor(cumulative_returns, dtype=torch.float32)\n",
        "\n",
        "    # predict logits, probas and log-probas using an agent.\n",
        "    logits = model(states)\n",
        "    probs = torch.nn.functional.softmax(logits, -1)\n",
        "    log_probs = torch.nn.functional.log_softmax(logits, -1)\n",
        "\n",
        "    assert all(isinstance(v, torch.Tensor) for v in [logits, probs, log_probs]), \\\n",
        "        \"please use compute using torch tensors and don't use predict_probs function\"\n",
        "\n",
        "    # select log-probabilities for chosen actions, log pi(a_i|s_i)\n",
        "    log_probs_for_actions = torch.sum(\n",
        "        log_probs * F.one_hot(actions, env.action_space.n), dim=1)\n",
        "\n",
        "    # Compute entropy for regularization\n",
        "    entropy = -(probs * log_probs).sum(dim=-1).mean()\n",
        "\n",
        "    # Compute loss here. Don't forget entropy regularization with `entropy_coef`\n",
        "    loss = -(log_probs_for_actions * cumulative_returns).mean() - entropy_coef * entropy\n",
        "\n",
        "    # Gradient descent step\n",
        "    optimizer.zero_grad()  # clear previous gradients\n",
        "    loss.backward()        # compute gradients of all variables wrt loss\n",
        "    optimizer.step()       # perform updates using calculated gradients\n",
        "\n",
        "    # technical: return session rewards to print them later\n",
        "    return np.sum(rewards)"
      ]
    },
    {
      "cell_type": "markdown",
      "metadata": {
        "id": "AjTgbI1iqnCG"
      },
      "source": [
        "### The actual training"
      ]
    },
    {
      "cell_type": "code",
      "execution_count": null,
      "metadata": {
        "id": "frVa2RjUqnCG",
        "outputId": "db0685f1-c2c3-40f0-b6b0-922a7babbe1c",
        "colab": {
          "base_uri": "https://localhost:8080/"
        }
      },
      "outputs": [
        {
          "output_type": "stream",
          "name": "stderr",
          "text": [
            "<ipython-input-14-55109a9f080b>:13: UserWarning: Creating a tensor from a list of numpy.ndarrays is extremely slow. Please consider converting the list to a single numpy.ndarray with numpy.array() before converting to a tensor. (Triggered internally at ../torch/csrc/utils/tensor_new.cpp:261.)\n",
            "  states = torch.tensor(states, dtype=torch.float32)\n"
          ]
        },
        {
          "output_type": "stream",
          "name": "stdout",
          "text": [
            "mean reward: 20.450\n",
            "mean reward: 20.800\n",
            "mean reward: 19.710\n",
            "mean reward: 19.960\n",
            "mean reward: 33.330\n",
            "mean reward: 62.040\n",
            "mean reward: 151.680\n",
            "mean reward: 179.970\n",
            "mean reward: 140.290\n",
            "mean reward: 151.320\n",
            "mean reward: 94.070\n",
            "mean reward: 147.150\n",
            "mean reward: 149.980\n",
            "mean reward: 123.950\n",
            "mean reward: 120.100\n",
            "mean reward: 116.030\n",
            "mean reward: 76.070\n",
            "mean reward: 129.660\n",
            "mean reward: 196.960\n",
            "mean reward: 203.120\n",
            "mean reward: 144.970\n",
            "mean reward: 125.500\n",
            "mean reward: 151.810\n",
            "mean reward: 141.580\n",
            "mean reward: 228.750\n",
            "mean reward: 603.550\n",
            "You Win!\n"
          ]
        }
      ],
      "source": [
        "for i in range(100):\n",
        "    rewards = [train_on_session(*generate_session(env)) for _ in range(100)]  # generate new sessions\n",
        "\n",
        "    print(\"mean reward: %.3f\" % (np.mean(rewards)))\n",
        "\n",
        "    if np.mean(rewards) > 500:\n",
        "        print(\"You Win!\")  # but you can train even further\n",
        "        break"
      ]
    },
    {
      "cell_type": "markdown",
      "metadata": {
        "id": "K1L2vPg5qnCG"
      },
      "source": [
        "### Results & video"
      ]
    },
    {
      "cell_type": "code",
      "execution_count": null,
      "metadata": {
        "id": "WAMjA3NeqnCG",
        "outputId": "ae806e46-a354-4497-fc9e-0b37145c99f2",
        "colab": {
          "base_uri": "https://localhost:8080/"
        }
      },
      "outputs": [
        {
          "output_type": "stream",
          "name": "stdout",
          "text": [
            "Moviepy - Building video /content/videos/rl-video-episode-0.mp4.\n",
            "Moviepy - Writing video /content/videos/rl-video-episode-0.mp4\n",
            "\n"
          ]
        },
        {
          "output_type": "stream",
          "name": "stderr",
          "text": []
        },
        {
          "output_type": "stream",
          "name": "stdout",
          "text": [
            "Moviepy - Done !\n",
            "Moviepy - video ready /content/videos/rl-video-episode-0.mp4\n",
            "Moviepy - Building video /content/videos/rl-video-episode-1.mp4.\n",
            "Moviepy - Writing video /content/videos/rl-video-episode-1.mp4\n",
            "\n"
          ]
        },
        {
          "output_type": "stream",
          "name": "stderr",
          "text": []
        },
        {
          "output_type": "stream",
          "name": "stdout",
          "text": [
            "Moviepy - Done !\n",
            "Moviepy - video ready /content/videos/rl-video-episode-1.mp4\n",
            "Moviepy - Building video /content/videos/rl-video-episode-8.mp4.\n",
            "Moviepy - Writing video /content/videos/rl-video-episode-8.mp4\n",
            "\n"
          ]
        },
        {
          "output_type": "stream",
          "name": "stderr",
          "text": []
        },
        {
          "output_type": "stream",
          "name": "stdout",
          "text": [
            "Moviepy - Done !\n",
            "Moviepy - video ready /content/videos/rl-video-episode-8.mp4\n"
          ]
        }
      ],
      "source": [
        "# Record sessions\n",
        "\n",
        "from gymnasium.wrappers import RecordVideo\n",
        "\n",
        "with gym.make(\"CartPole-v1\", render_mode=\"rgb_array\") as env, RecordVideo(\n",
        "    env=env, video_folder=\"./videos\"\n",
        ") as env_monitor:\n",
        "    sessions = [generate_session(env_monitor) for _ in range(10)]\n"
      ]
    },
    {
      "cell_type": "code",
      "execution_count": null,
      "metadata": {
        "id": "FFkuzTikqnCK",
        "outputId": "16246896-68c9-4810-89d7-3f1efbcb0de8",
        "colab": {
          "base_uri": "https://localhost:8080/",
          "height": 501
        }
      },
      "outputs": [
        {
          "output_type": "execute_result",
          "data": {
            "text/plain": [
              "<IPython.core.display.HTML object>"
            ],
            "text/html": [
              "\n",
              "<video width=\"640\" height=\"480\" controls>\n",
              "  <source src=\"data:video/mp4;base64,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\" type=\"video/mp4\">\n",
              "</video>\n"
            ]
          },
          "metadata": {},
          "execution_count": 17
        }
      ],
      "source": [
        "# Show video. This may not work in some setups. If it doesn't\n",
        "# work for you, you can download the videos and view them locally.\n",
        "\n",
        "from pathlib import Path\n",
        "from base64 import b64encode\n",
        "from IPython.display import HTML\n",
        "\n",
        "video_paths = sorted([s for s in Path('videos').iterdir() if s.suffix == '.mp4'])\n",
        "video_path = video_paths[-1]  # You can also try other indices\n",
        "\n",
        "if 'google.colab' in sys.modules:\n",
        "    # https://stackoverflow.com/a/57378660/1214547\n",
        "    with video_path.open('rb') as fp:\n",
        "        mp4 = fp.read()\n",
        "    data_url = 'data:video/mp4;base64,' + b64encode(mp4).decode()\n",
        "else:\n",
        "    data_url = str(video_path)\n",
        "\n",
        "HTML(\"\"\"\n",
        "<video width=\"640\" height=\"480\" controls>\n",
        "  <source src=\"{}\" type=\"video/mp4\">\n",
        "</video>\n",
        "\"\"\".format(data_url))"
      ]
    },
    {
      "cell_type": "code",
      "source": [],
      "metadata": {
        "id": "XOhHRyMUt18E"
      },
      "execution_count": null,
      "outputs": []
    }
  ],
  "metadata": {
    "kernelspec": {
      "display_name": "Python 3",
      "name": "python3"
    },
    "language_info": {
      "codemirror_mode": {
        "name": "ipython",
        "version": 3
      },
      "file_extension": ".py",
      "mimetype": "text/x-python",
      "name": "python",
      "nbconvert_exporter": "python",
      "pygments_lexer": "ipython3",
      "version": "3.9.16"
    },
    "colab": {
      "provenance": [],
      "gpuType": "T4"
    },
    "accelerator": "GPU"
  },
  "nbformat": 4,
  "nbformat_minor": 0
}